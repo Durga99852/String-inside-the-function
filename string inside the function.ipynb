{
 "cells": [
  {
   "cell_type": "code",
   "execution_count": 5,
   "id": "875c2f56",
   "metadata": {},
   "outputs": [
    {
     "name": "stdout",
     "output_type": "stream",
     "text": [
      "1234abcd\n",
      "dcba4321\n"
     ]
    }
   ],
   "source": [
    "def string_reverse(str1):  #define a function\n",
    "    \n",
    "    rstr1=''    \n",
    "    index=len(str1)\n",
    "    while index>0:\n",
    "        rstr1 +=str1[index-1]    #count the index value\n",
    "        index=index-1\n",
    "    return rstr1\n",
    "str='1234abcd'   #taken as input\n",
    "print(str)    #print the  string\n",
    "print(string_reverse(str))   #print the  string after reverse function\n"
   ]
  },
  {
   "cell_type": "markdown",
   "id": "b67e6825",
   "metadata": {},
   "source": [
    "## Test cases"
   ]
  },
  {
   "cell_type": "code",
   "execution_count": 3,
   "id": "9fc1fbad",
   "metadata": {},
   "outputs": [
    {
     "name": "stdout",
     "output_type": "stream",
     "text": [
      "Durga411\n",
      "114agruD\n"
     ]
    }
   ],
   "source": [
    "def string_reverse(str1):\n",
    "    \n",
    "    rstr1=''\n",
    "    index=len(str1)\n",
    "    while index>0:\n",
    "        rstr1 +=str1[index-1]\n",
    "        index=index-1\n",
    "    return rstr1\n",
    "str='Durga411'\n",
    "print(str)\n",
    "print(string_reverse(str))\n"
   ]
  },
  {
   "cell_type": "markdown",
   "id": "a355516a",
   "metadata": {},
   "source": [
    "# #Test cases"
   ]
  },
  {
   "cell_type": "code",
   "execution_count": 4,
   "id": "e7530d84",
   "metadata": {},
   "outputs": [
    {
     "name": "stdout",
     "output_type": "stream",
     "text": [
      "Durga-43\n",
      "34-agruD\n"
     ]
    }
   ],
   "source": [
    "def string_reverse(str1):\n",
    "    \n",
    "    rstr1=''\n",
    "    index=len(str1)\n",
    "    while index>0:\n",
    "        rstr1 +=str1[index-1]\n",
    "        index=index-1\n",
    "    return rstr1\n",
    "str='Durga-43'\n",
    "print(str)\n",
    "print(string_reverse(str))\n"
   ]
  },
  {
   "cell_type": "code",
   "execution_count": null,
   "id": "cad53d12",
   "metadata": {},
   "outputs": [],
   "source": []
  }
 ],
 "metadata": {
  "kernelspec": {
   "display_name": "Python 3 (ipykernel)",
   "language": "python",
   "name": "python3"
  },
  "language_info": {
   "codemirror_mode": {
    "name": "ipython",
    "version": 3
   },
   "file_extension": ".py",
   "mimetype": "text/x-python",
   "name": "python",
   "nbconvert_exporter": "python",
   "pygments_lexer": "ipython3",
   "version": "3.10.0"
  }
 },
 "nbformat": 4,
 "nbformat_minor": 5
}
